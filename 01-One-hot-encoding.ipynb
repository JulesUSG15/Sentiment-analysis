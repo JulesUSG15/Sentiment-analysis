{
 "cells": [
  {
   "cell_type": "markdown",
   "metadata": {},
   "source": [
    "# Sentiment analysis with hot-one encoding\n",
    "A basic example of sentiment analysis with sparse encoding, using a dataset from Internet Movie Database (IMDB), using Keras 3 on PyTorch\n",
    "\n",
    "## Objectives :\n",
    " - The objective is to guess whether film reviews are **positive or negative** based on the analysis of the text. \n",
    " - Understand the management of **textual data** and **sentiment analysis**\n",
    "\n",
    "Original dataset can be find **[there](http://ai.stanford.edu/~amaas/data/sentiment/)**  \n",
    "Note that [IMDb.com](https://imdb.com) offers several easy-to-use [datasets](https://www.imdb.com/interfaces/)  \n",
    "For simplicity's sake, we'll use the dataset directly [embedded in Keras](https://keras.io/datasets)\n",
    "\n",
    "## What we're going to do :\n",
    "\n",
    " - Retrieve data\n",
    " - Preparing the data\n",
    " - Build a model\n",
    " - Train the model\n",
    " - Evaluate the result"
   ]
  },
  {
   "cell_type": "markdown",
   "metadata": {},
   "source": [
    "## Step 1 - Import and init\n",
    "### 1.1 - Python stuff"
   ]
  },
  {
   "cell_type": "code",
   "execution_count": 3,
   "metadata": {},
   "outputs": [
    {
     "name": "stdout",
     "output_type": "stream",
     "text": [
      "Run ID: K3IMDB1_20240313_221443\n",
      "Run Directory: /Users/jules/Documents/Sentiment-analysis/runs/K3IMDB1_20240313_221443\n",
      "Datasets Directory: /Users/jules/Documents/Sentiment-analysis/runs/K3IMDB1_20240313_221443/datasets\n"
     ]
    }
   ],
   "source": [
    "import os\n",
    "from datetime import datetime\n",
    "\n",
    "project_name = 'K3IMDB1'\n",
    "\n",
    "# Création d'un identifiant de run basé sur le timestamp pour garantir l'unicité\n",
    "run_id = f\"{project_name}_{datetime.now().strftime('%Y%m%d_%H%M%S')}\"\n",
    "\n",
    "# Définition des répertoires de travail\n",
    "run_dir = os.path.join(os.getcwd(), 'runs', run_id)\n",
    "datasets_dir = os.path.join(run_dir, 'datasets')\n",
    "\n",
    "# Création des répertoires\n",
    "os.makedirs(run_dir, exist_ok=True)\n",
    "os.makedirs(datasets_dir, exist_ok=True)\n",
    "\n",
    "print(f\"Run ID: {run_id}\")\n",
    "print(f\"Run Directory: {run_dir}\")\n",
    "print(f\"Datasets Directory: {datasets_dir}\")\n",
    "\n",
    "import keras\n",
    "import keras.datasets.imdb as imdb\n",
    "\n",
    "import numpy as np\n",
    "import pandas as pd\n",
    "import matplotlib.pyplot as plt\n"
   ]
  },
  {
   "cell_type": "markdown",
   "metadata": {},
   "source": [
    "### 1.2 - Parameters\n",
    "The words in the vocabulary are classified from the most frequent to the rarest.\\\n",
    "`vocab_size` is the number of words we will remember in our vocabulary (the other words will be considered as unknown).\\\n",
    "`hide_most_frequently` is the number of ignored words, among the most common ones\\\n",
    "`fit_verbosity` is the verbosity during training : 0 = silent, 1 = progress bar, 2 = one line per epoch"
   ]
  },
  {
   "cell_type": "code",
   "execution_count": 4,
   "metadata": {},
   "outputs": [],
   "source": [
    "vocab_size           = 5000\n",
    "hide_most_frequently = 0\n",
    "\n",
    "epochs               = 10\n",
    "batch_size           = 512\n",
    "fit_verbosity        = 1"
   ]
  },
  {
   "cell_type": "markdown",
   "metadata": {},
   "source": [
    "## Step 2 - Understanding hot-one encoding\n",
    "#### We have a **sentence** and a **dictionary** :"
   ]
  },
  {
   "cell_type": "code",
   "execution_count": 6,
   "metadata": {},
   "outputs": [],
   "source": [
    "sentence = \"I've never seen a movie like this before\"\n",
    "\n",
    "dictionary  = {\"a\":0, \"before\":1, \"fantastic\":2, \"i've\":3, \"is\":4, \"like\":5, \"movie\":6, \"never\":7, \"seen\":8, \"this\":9}"
   ]
  },
  {
   "cell_type": "markdown",
   "metadata": {},
   "source": [
    "#### We encode our sentence as a **numerical vector** :"
   ]
  },
  {
   "cell_type": "code",
   "execution_count": 7,
   "metadata": {},
   "outputs": [
    {
     "name": "stdout",
     "output_type": "stream",
     "text": [
      "Words sentence are         :  [\"i've\", 'never', 'seen', 'a', 'movie', 'like', 'this', 'before']\n",
      "Our vectorized sentence is :  [3, 7, 8, 0, 6, 5, 9, 1]\n"
     ]
    }
   ],
   "source": [
    "sentence_words = sentence.lower().split()\n",
    "\n",
    "sentence_vect  = [ dictionary[w] for w in sentence_words ]\n",
    "\n",
    "print('Words sentence are         : ', sentence_words)\n",
    "print('Our vectorized sentence is : ', sentence_vect)"
   ]
  },
  {
   "cell_type": "markdown",
   "metadata": {},
   "source": [
    "#### Next, we **one-hot** encode our vectorized sentence as a tensor :"
   ]
  },
  {
   "cell_type": "code",
   "execution_count": 8,
   "metadata": {},
   "outputs": [
    {
     "name": "stdout",
     "output_type": "stream",
     "text": [
      "In a basic way :\n",
      "\n",
      " [[0. 0. 0. 1. 0. 0. 0. 0.]\n",
      " [0. 0. 0. 0. 0. 0. 0. 1.]\n",
      " [0. 0. 0. 0. 0. 0. 0. 0.]\n",
      " [1. 0. 0. 0. 0. 0. 0. 0.]\n",
      " [0. 0. 0. 0. 0. 0. 0. 0.]\n",
      " [0. 0. 0. 0. 0. 1. 0. 0.]\n",
      " [0. 0. 0. 0. 1. 0. 0. 0.]\n",
      " [0. 1. 0. 0. 0. 0. 0. 0.]\n",
      " [0. 0. 1. 0. 0. 0. 0. 0.]\n",
      " [0. 0. 0. 0. 0. 0. 1. 0.]] \n",
      "\n",
      "With a pandas wiew :\n",
      "\n"
     ]
    },
    {
     "data": {
      "text/html": [
       "<style type=\"text/css\">\n",
       "#T_957aa_row0_col0, #T_957aa_row0_col1, #T_957aa_row0_col2, #T_957aa_row0_col4, #T_957aa_row0_col5, #T_957aa_row0_col6, #T_957aa_row0_col7, #T_957aa_row1_col0, #T_957aa_row1_col1, #T_957aa_row1_col2, #T_957aa_row1_col3, #T_957aa_row1_col4, #T_957aa_row1_col5, #T_957aa_row1_col6, #T_957aa_row2_col0, #T_957aa_row2_col1, #T_957aa_row2_col2, #T_957aa_row2_col3, #T_957aa_row2_col4, #T_957aa_row2_col5, #T_957aa_row2_col6, #T_957aa_row2_col7, #T_957aa_row3_col1, #T_957aa_row3_col2, #T_957aa_row3_col3, #T_957aa_row3_col4, #T_957aa_row3_col5, #T_957aa_row3_col6, #T_957aa_row3_col7, #T_957aa_row4_col0, #T_957aa_row4_col1, #T_957aa_row4_col2, #T_957aa_row4_col3, #T_957aa_row4_col4, #T_957aa_row4_col5, #T_957aa_row4_col6, #T_957aa_row4_col7, #T_957aa_row5_col0, #T_957aa_row5_col1, #T_957aa_row5_col2, #T_957aa_row5_col3, #T_957aa_row5_col4, #T_957aa_row5_col6, #T_957aa_row5_col7, #T_957aa_row6_col0, #T_957aa_row6_col1, #T_957aa_row6_col2, #T_957aa_row6_col3, #T_957aa_row6_col5, #T_957aa_row6_col6, #T_957aa_row6_col7, #T_957aa_row7_col0, #T_957aa_row7_col2, #T_957aa_row7_col3, #T_957aa_row7_col4, #T_957aa_row7_col5, #T_957aa_row7_col6, #T_957aa_row7_col7, #T_957aa_row8_col0, #T_957aa_row8_col1, #T_957aa_row8_col3, #T_957aa_row8_col4, #T_957aa_row8_col5, #T_957aa_row8_col6, #T_957aa_row8_col7, #T_957aa_row9_col0, #T_957aa_row9_col1, #T_957aa_row9_col2, #T_957aa_row9_col3, #T_957aa_row9_col4, #T_957aa_row9_col5, #T_957aa_row9_col7 {\n",
       "  text-align: center;\n",
       "}\n",
       "#T_957aa_row0_col3, #T_957aa_row1_col7, #T_957aa_row3_col0, #T_957aa_row5_col5, #T_957aa_row6_col4, #T_957aa_row7_col1, #T_957aa_row8_col2, #T_957aa_row9_col6 {\n",
       "  background-color: yellow;\n",
       "  text-align: center;\n",
       "}\n",
       "</style>\n",
       "<table id=\"T_957aa\">\n",
       "  <thead>\n",
       "    <tr>\n",
       "      <th class=\"blank level0\" >&nbsp;</th>\n",
       "      <th id=\"T_957aa_level0_col0\" class=\"col_heading level0 col0\" >...i've...</th>\n",
       "      <th id=\"T_957aa_level0_col1\" class=\"col_heading level0 col1\" >..never...</th>\n",
       "      <th id=\"T_957aa_level0_col2\" class=\"col_heading level0 col2\" >...seen...</th>\n",
       "      <th id=\"T_957aa_level0_col3\" class=\"col_heading level0 col3\" >....a.....</th>\n",
       "      <th id=\"T_957aa_level0_col4\" class=\"col_heading level0 col4\" >..movie...</th>\n",
       "      <th id=\"T_957aa_level0_col5\" class=\"col_heading level0 col5\" >...like...</th>\n",
       "      <th id=\"T_957aa_level0_col6\" class=\"col_heading level0 col6\" >...this...</th>\n",
       "      <th id=\"T_957aa_level0_col7\" class=\"col_heading level0 col7\" >..before..</th>\n",
       "    </tr>\n",
       "  </thead>\n",
       "  <tbody>\n",
       "    <tr>\n",
       "      <th id=\"T_957aa_level0_row0\" class=\"row_heading level0 row0\" >a</th>\n",
       "      <td id=\"T_957aa_row0_col0\" class=\"data row0 col0\" >0</td>\n",
       "      <td id=\"T_957aa_row0_col1\" class=\"data row0 col1\" >0</td>\n",
       "      <td id=\"T_957aa_row0_col2\" class=\"data row0 col2\" >0</td>\n",
       "      <td id=\"T_957aa_row0_col3\" class=\"data row0 col3\" >1</td>\n",
       "      <td id=\"T_957aa_row0_col4\" class=\"data row0 col4\" >0</td>\n",
       "      <td id=\"T_957aa_row0_col5\" class=\"data row0 col5\" >0</td>\n",
       "      <td id=\"T_957aa_row0_col6\" class=\"data row0 col6\" >0</td>\n",
       "      <td id=\"T_957aa_row0_col7\" class=\"data row0 col7\" >0</td>\n",
       "    </tr>\n",
       "    <tr>\n",
       "      <th id=\"T_957aa_level0_row1\" class=\"row_heading level0 row1\" >before</th>\n",
       "      <td id=\"T_957aa_row1_col0\" class=\"data row1 col0\" >0</td>\n",
       "      <td id=\"T_957aa_row1_col1\" class=\"data row1 col1\" >0</td>\n",
       "      <td id=\"T_957aa_row1_col2\" class=\"data row1 col2\" >0</td>\n",
       "      <td id=\"T_957aa_row1_col3\" class=\"data row1 col3\" >0</td>\n",
       "      <td id=\"T_957aa_row1_col4\" class=\"data row1 col4\" >0</td>\n",
       "      <td id=\"T_957aa_row1_col5\" class=\"data row1 col5\" >0</td>\n",
       "      <td id=\"T_957aa_row1_col6\" class=\"data row1 col6\" >0</td>\n",
       "      <td id=\"T_957aa_row1_col7\" class=\"data row1 col7\" >1</td>\n",
       "    </tr>\n",
       "    <tr>\n",
       "      <th id=\"T_957aa_level0_row2\" class=\"row_heading level0 row2\" >fantastic</th>\n",
       "      <td id=\"T_957aa_row2_col0\" class=\"data row2 col0\" >0</td>\n",
       "      <td id=\"T_957aa_row2_col1\" class=\"data row2 col1\" >0</td>\n",
       "      <td id=\"T_957aa_row2_col2\" class=\"data row2 col2\" >0</td>\n",
       "      <td id=\"T_957aa_row2_col3\" class=\"data row2 col3\" >0</td>\n",
       "      <td id=\"T_957aa_row2_col4\" class=\"data row2 col4\" >0</td>\n",
       "      <td id=\"T_957aa_row2_col5\" class=\"data row2 col5\" >0</td>\n",
       "      <td id=\"T_957aa_row2_col6\" class=\"data row2 col6\" >0</td>\n",
       "      <td id=\"T_957aa_row2_col7\" class=\"data row2 col7\" >0</td>\n",
       "    </tr>\n",
       "    <tr>\n",
       "      <th id=\"T_957aa_level0_row3\" class=\"row_heading level0 row3\" >i've</th>\n",
       "      <td id=\"T_957aa_row3_col0\" class=\"data row3 col0\" >1</td>\n",
       "      <td id=\"T_957aa_row3_col1\" class=\"data row3 col1\" >0</td>\n",
       "      <td id=\"T_957aa_row3_col2\" class=\"data row3 col2\" >0</td>\n",
       "      <td id=\"T_957aa_row3_col3\" class=\"data row3 col3\" >0</td>\n",
       "      <td id=\"T_957aa_row3_col4\" class=\"data row3 col4\" >0</td>\n",
       "      <td id=\"T_957aa_row3_col5\" class=\"data row3 col5\" >0</td>\n",
       "      <td id=\"T_957aa_row3_col6\" class=\"data row3 col6\" >0</td>\n",
       "      <td id=\"T_957aa_row3_col7\" class=\"data row3 col7\" >0</td>\n",
       "    </tr>\n",
       "    <tr>\n",
       "      <th id=\"T_957aa_level0_row4\" class=\"row_heading level0 row4\" >is</th>\n",
       "      <td id=\"T_957aa_row4_col0\" class=\"data row4 col0\" >0</td>\n",
       "      <td id=\"T_957aa_row4_col1\" class=\"data row4 col1\" >0</td>\n",
       "      <td id=\"T_957aa_row4_col2\" class=\"data row4 col2\" >0</td>\n",
       "      <td id=\"T_957aa_row4_col3\" class=\"data row4 col3\" >0</td>\n",
       "      <td id=\"T_957aa_row4_col4\" class=\"data row4 col4\" >0</td>\n",
       "      <td id=\"T_957aa_row4_col5\" class=\"data row4 col5\" >0</td>\n",
       "      <td id=\"T_957aa_row4_col6\" class=\"data row4 col6\" >0</td>\n",
       "      <td id=\"T_957aa_row4_col7\" class=\"data row4 col7\" >0</td>\n",
       "    </tr>\n",
       "    <tr>\n",
       "      <th id=\"T_957aa_level0_row5\" class=\"row_heading level0 row5\" >like</th>\n",
       "      <td id=\"T_957aa_row5_col0\" class=\"data row5 col0\" >0</td>\n",
       "      <td id=\"T_957aa_row5_col1\" class=\"data row5 col1\" >0</td>\n",
       "      <td id=\"T_957aa_row5_col2\" class=\"data row5 col2\" >0</td>\n",
       "      <td id=\"T_957aa_row5_col3\" class=\"data row5 col3\" >0</td>\n",
       "      <td id=\"T_957aa_row5_col4\" class=\"data row5 col4\" >0</td>\n",
       "      <td id=\"T_957aa_row5_col5\" class=\"data row5 col5\" >1</td>\n",
       "      <td id=\"T_957aa_row5_col6\" class=\"data row5 col6\" >0</td>\n",
       "      <td id=\"T_957aa_row5_col7\" class=\"data row5 col7\" >0</td>\n",
       "    </tr>\n",
       "    <tr>\n",
       "      <th id=\"T_957aa_level0_row6\" class=\"row_heading level0 row6\" >movie</th>\n",
       "      <td id=\"T_957aa_row6_col0\" class=\"data row6 col0\" >0</td>\n",
       "      <td id=\"T_957aa_row6_col1\" class=\"data row6 col1\" >0</td>\n",
       "      <td id=\"T_957aa_row6_col2\" class=\"data row6 col2\" >0</td>\n",
       "      <td id=\"T_957aa_row6_col3\" class=\"data row6 col3\" >0</td>\n",
       "      <td id=\"T_957aa_row6_col4\" class=\"data row6 col4\" >1</td>\n",
       "      <td id=\"T_957aa_row6_col5\" class=\"data row6 col5\" >0</td>\n",
       "      <td id=\"T_957aa_row6_col6\" class=\"data row6 col6\" >0</td>\n",
       "      <td id=\"T_957aa_row6_col7\" class=\"data row6 col7\" >0</td>\n",
       "    </tr>\n",
       "    <tr>\n",
       "      <th id=\"T_957aa_level0_row7\" class=\"row_heading level0 row7\" >never</th>\n",
       "      <td id=\"T_957aa_row7_col0\" class=\"data row7 col0\" >0</td>\n",
       "      <td id=\"T_957aa_row7_col1\" class=\"data row7 col1\" >1</td>\n",
       "      <td id=\"T_957aa_row7_col2\" class=\"data row7 col2\" >0</td>\n",
       "      <td id=\"T_957aa_row7_col3\" class=\"data row7 col3\" >0</td>\n",
       "      <td id=\"T_957aa_row7_col4\" class=\"data row7 col4\" >0</td>\n",
       "      <td id=\"T_957aa_row7_col5\" class=\"data row7 col5\" >0</td>\n",
       "      <td id=\"T_957aa_row7_col6\" class=\"data row7 col6\" >0</td>\n",
       "      <td id=\"T_957aa_row7_col7\" class=\"data row7 col7\" >0</td>\n",
       "    </tr>\n",
       "    <tr>\n",
       "      <th id=\"T_957aa_level0_row8\" class=\"row_heading level0 row8\" >seen</th>\n",
       "      <td id=\"T_957aa_row8_col0\" class=\"data row8 col0\" >0</td>\n",
       "      <td id=\"T_957aa_row8_col1\" class=\"data row8 col1\" >0</td>\n",
       "      <td id=\"T_957aa_row8_col2\" class=\"data row8 col2\" >1</td>\n",
       "      <td id=\"T_957aa_row8_col3\" class=\"data row8 col3\" >0</td>\n",
       "      <td id=\"T_957aa_row8_col4\" class=\"data row8 col4\" >0</td>\n",
       "      <td id=\"T_957aa_row8_col5\" class=\"data row8 col5\" >0</td>\n",
       "      <td id=\"T_957aa_row8_col6\" class=\"data row8 col6\" >0</td>\n",
       "      <td id=\"T_957aa_row8_col7\" class=\"data row8 col7\" >0</td>\n",
       "    </tr>\n",
       "    <tr>\n",
       "      <th id=\"T_957aa_level0_row9\" class=\"row_heading level0 row9\" >this</th>\n",
       "      <td id=\"T_957aa_row9_col0\" class=\"data row9 col0\" >0</td>\n",
       "      <td id=\"T_957aa_row9_col1\" class=\"data row9 col1\" >0</td>\n",
       "      <td id=\"T_957aa_row9_col2\" class=\"data row9 col2\" >0</td>\n",
       "      <td id=\"T_957aa_row9_col3\" class=\"data row9 col3\" >0</td>\n",
       "      <td id=\"T_957aa_row9_col4\" class=\"data row9 col4\" >0</td>\n",
       "      <td id=\"T_957aa_row9_col5\" class=\"data row9 col5\" >0</td>\n",
       "      <td id=\"T_957aa_row9_col6\" class=\"data row9 col6\" >1</td>\n",
       "      <td id=\"T_957aa_row9_col7\" class=\"data row9 col7\" >0</td>\n",
       "    </tr>\n",
       "  </tbody>\n",
       "</table>\n"
      ],
      "text/plain": [
       "<pandas.io.formats.style.Styler at 0x1563b2310>"
      ]
     },
     "execution_count": 8,
     "metadata": {},
     "output_type": "execute_result"
    }
   ],
   "source": [
    "# ---- We get a (sentence length x vector size) matrix of zeros\n",
    "#\n",
    "onehot = np.zeros( (10,8) )\n",
    "\n",
    "# ---- We set some 1 for each word\n",
    "#\n",
    "for i,w in enumerate(sentence_vect):\n",
    "    onehot[w,i]=1\n",
    "\n",
    "# --- Show it\n",
    "#\n",
    "print('In a basic way :\\n\\n', onehot, '\\n\\nWith a pandas wiew :\\n')\n",
    "data={ f'{sentence_words[i]:.^10}':onehot[:,i] for i,w in enumerate(sentence_vect) }\n",
    "df=pd.DataFrame(data)\n",
    "df.index=dictionary.keys()\n",
    "# --- Pandas Warning \n",
    "# \n",
    "df.style.format('{:1.0f}').highlight_max(axis=0).set_properties(**{'text-align': 'center'})"
   ]
  },
  {
   "cell_type": "markdown",
   "metadata": {},
   "source": [
    "## Step 3 - Retrieve data\n",
    "\n",
    "IMDb dataset can bet get directly from Keras - see [documentation](https://keras.io/api/datasets/imdb/)  \n",
    "Note : Due to their nature, textual data can be somewhat complex.\n",
    "\n",
    "### 3.1 - Data structure :  \n",
    "The dataset is composed of 2 parts: \n",
    "\n",
    " - **reviews**, this will be our **x**\n",
    " - **opinions** (positive/negative), this will be our **y**\n",
    "\n",
    "There are also a **dictionary**, because words are indexed in reviews\n",
    "\n",
    "```\n",
    "<dataset> = (<reviews>, <opinions>)\n",
    "\n",
    "with :  <reviews>  = [ <review1>, <review2>, ... ]\n",
    "        <opinions> = [ <rate1>,   <rate2>,   ... ]   where <ratei>   = integer\n",
    "\n",
    "where : <reviewi> = [ <w1>, <w2>, ...]    <wi> are the index (int) of the word in the dictionary\n",
    "        <ratei>   = int                   0 for negative opinion, 1 for positive\n",
    "\n",
    "\n",
    "<dictionary> = [ <word1>:<w1>, <word2>:<w2>, ... ]\n",
    "\n",
    "with :  <wordi>   = word\n",
    "        <wi>      = int\n",
    "\n",
    "```"
   ]
  },
  {
   "cell_type": "markdown",
   "metadata": {},
   "source": [
    "### 3.2 - Load dataset\n",
    "For simplicity, we will use a pre-formatted dataset - See [documentation](https://keras.io/api/datasets/imdb)  \n",
    "However, Keras offers some useful tools for formatting textual data - See [documentation](hhttps://keras.io/api/layers/preprocessing_layers/text/text_vectorization/)  \n",
    "\n",
    "By default : \n",
    " - Start of a sequence will be marked with : 1\n",
    " - Out of vocabulary word will be : 2\n",
    " - First index will be : 3"
   ]
  },
  {
   "cell_type": "code",
   "execution_count": 9,
   "metadata": {},
   "outputs": [
    {
     "name": "stdout",
     "output_type": "stream",
     "text": [
      "Downloading data from https://storage.googleapis.com/tensorflow/tf-keras-datasets/imdb.npz\n",
      "17464789/17464789 [==============================] - 1s 0us/step\n",
      "Max(x_train,x_test)  :  4999\n",
      "Min(x_train,x_test)  :  1\n",
      "Len(x_train)         :  25000\n",
      "Len(x_test)          :  25000\n"
     ]
    }
   ],
   "source": [
    "# ----- Retrieve x,y\n",
    "#\n",
    "start_char = 1      # Start of a sequence (padding is 0)\n",
    "oov_char   = 2      # Out-of-vocabulary\n",
    "index_from = 3      # First word id\n",
    "\n",
    "(x_train, y_train), (x_test, y_test) = imdb.load_data( num_words  = vocab_size, \n",
    "                                                       skip_top   = hide_most_frequently,\n",
    "                                                       start_char = start_char, \n",
    "                                                       oov_char   = oov_char, \n",
    "                                                       index_from = index_from)\n",
    "\n",
    "def rmax(seq):\n",
    "    \"\"\"Calcule le maximum récursif dans une liste de listes.\"\"\"\n",
    "    return max(max(subseq) if isinstance(subseq, list) else subseq for subseq in seq)\n",
    "\n",
    "def rmin(seq):\n",
    "    \"\"\"Calcule le minimum récursif dans une liste de listes.\"\"\"\n",
    "    return min(min(subseq) if isinstance(subseq, list) else subseq for subseq in seq)\n",
    "\n",
    "print(\"Max(x_train,x_test)  : \", rmax(x_train + x_test))\n",
    "print(\"Min(x_train,x_test)  : \", rmin(x_train + x_test))\n",
    "print(\"Len(x_train)         : \", len(x_train))\n",
    "print(\"Len(x_test)          : \", len(x_test))\n"
   ]
  },
  {
   "cell_type": "markdown",
   "metadata": {},
   "source": [
    "## Step 4 - About our dataset\n",
    "When we loaded the dataset, we asked for using \\<start\\> as 1, \\<unknown word\\> as 2  \n",
    "So, we shifted the dataset by 3 with the parameter index_from=3\n",
    "\n",
    "### 4.1 - Sentences encoding"
   ]
  },
  {
   "cell_type": "code",
   "execution_count": 10,
   "metadata": {},
   "outputs": [
    {
     "name": "stdout",
     "output_type": "stream",
     "text": [
      "\n",
      "Review example (x_train[12]) :\n",
      "\n",
      " [1, 13, 119, 954, 189, 1554, 13, 92, 459, 48, 4, 116, 9, 1492, 2291, 42, 726, 4, 1939, 168, 2031, 13, 423, 14, 20, 549, 18, 4, 2, 547, 32, 4, 96, 39, 4, 454, 7, 4, 22, 8, 4, 55, 130, 168, 13, 92, 359, 6, 158, 1511, 2, 42, 6, 1913, 19, 194, 4455, 4121, 6, 114, 8, 72, 21, 465, 2, 304, 4, 51, 9, 14, 20, 44, 155, 8, 6, 226, 162, 616, 651, 51, 9, 14, 20, 44, 10, 10, 14, 218, 4843, 629, 42, 3017, 21, 48, 25, 28, 35, 534, 5, 6, 320, 8, 516, 5, 42, 25, 181, 8, 130, 56, 547, 3571, 5, 1471, 851, 14, 2286]\n",
      "\n",
      "Opinions (y_train) :\n",
      "\n",
      " [1 0 0 ... 0 1 0]\n"
     ]
    }
   ],
   "source": [
    "print('\\nReview example (x_train[12]) :\\n\\n',x_train[12])\n",
    "print('\\nOpinions (y_train) :\\n\\n',y_train)"
   ]
  },
  {
   "cell_type": "markdown",
   "metadata": {},
   "source": [
    "### 4.2 - Load dictionary"
   ]
  },
  {
   "cell_type": "code",
   "execution_count": 12,
   "metadata": {},
   "outputs": [
    {
     "name": "stdout",
     "output_type": "stream",
     "text": [
      "Downloading data from https://storage.googleapis.com/tensorflow/tf-keras-datasets/imdb_word_index.json\n",
      "1641221/1641221 [==============================] - 0s 0us/step\n",
      "\n",
      "Dictionary size     :  88588\n",
      "\n",
      "Small extract :\n",
      "\n",
      "    440 : hope\n",
      "    441 : entertaining\n",
      "    442 : she's\n",
      "    443 : mr\n",
      "    444 : overall\n",
      "    445 : evil\n",
      "    446 : called\n",
      "    447 : loved\n",
      "    448 : based\n",
      "    449 : oh\n",
      "    450 : several\n",
      "    451 : fans\n",
      "    452 : mother\n",
      "    453 : drama\n",
      "    454 : beginning\n"
     ]
    }
   ],
   "source": [
    "# ---- Retrieve dictionary {word:index}, and encode it in ascii\n",
    "#\n",
    "word_index = imdb.get_word_index()\n",
    "\n",
    "# ---- Shift the dictionary from <index_from>\n",
    "#\n",
    "word_index = {w:(i+index_from) for w,i in word_index.items()}\n",
    "\n",
    "# ---- Add <pad>, <start> and <unknown> tags\n",
    "#\n",
    "word_index.update( {'<pad>':0, '<start>':1, '<unknown>':2, '<undef>':3,} )\n",
    "\n",
    "# ---- Create a reverse dictionary : {index:word}\n",
    "#\n",
    "index_word = {index:word for word,index in word_index.items()} \n",
    "\n",
    "# ---- About dictionary\n",
    "#\n",
    "print('\\nDictionary size     : ', len(word_index))\n",
    "print('\\nSmall extract :\\n')\n",
    "for k in range(440,455):print(f'    {k:2d} : {index_word[k]}' )\n",
    "\n",
    "# ---- Add a nice function to transpose :\n",
    "#\n",
    "def dataset2text(review):\n",
    "    return ' '.join([index_word.get(i, '?') for i in review])"
   ]
  },
  {
   "cell_type": "markdown",
   "metadata": {},
   "source": [
    "### 4.3 - Have a look, for human"
   ]
  },
  {
   "cell_type": "code",
   "execution_count": 14,
   "metadata": {},
   "outputs": [],
   "source": [
    "def print_subtitle(title):\n",
    "    print(f\"\\n{'=' * len(title)}\\n{title}\\n{'=' * len(title)}\")"
   ]
  },
  {
   "cell_type": "code",
   "execution_count": 15,
   "metadata": {},
   "outputs": [],
   "source": [
    "# Chargement du dictionnaire de mots d'IMDB\n",
    "word_index = imdb.get_word_index()\n",
    "\n",
    "# Ajout de 3 parce que Keras réserve 'padding', 'start of sequence' et 'unknown'\n",
    "word_index = {k: (v + index_from) for k, v in word_index.items()}\n",
    "word_index[\"<PAD>\"] = 0\n",
    "word_index[\"<START>\"] = 1\n",
    "word_index[\"<UNK>\"] = 2  # unknown\n",
    "word_index[\"<UNUSED>\"] = 3\n",
    "\n",
    "reverse_word_index = dict([(value, key) for (key, value) in word_index.items()])\n",
    "\n",
    "def dataset2text(sequence):\n",
    "    return ' '.join([reverse_word_index.get(i, '?') for i in sequence])"
   ]
  },
  {
   "cell_type": "code",
   "execution_count": 16,
   "metadata": {},
   "outputs": [
    {
     "name": "stdout",
     "output_type": "stream",
     "text": [
      "\n",
      "================\n",
      "Review example :\n",
      "================\n",
      "[1, 13, 119, 954, 189, 1554, 13, 92, 459, 48, 4, 116, 9, 1492, 2291, 42, 726, 4, 1939, 168, 2031, 13, 423, 14, 20, 549, 18, 4, 2, 547, 32, 4, 96, 39, 4, 454, 7, 4, 22, 8, 4, 55, 130, 168, 13, 92, 359, 6, 158, 1511, 2, 42, 6, 1913, 19, 194, 4455, 4121, 6, 114, 8, 72, 21, 465, 2, 304, 4, 51, 9, 14, 20, 44, 155, 8, 6, 226, 162, 616, 651, 51, 9, 14, 20, 44, 10, 10, 14, 218, 4843, 629, 42, 3017, 21, 48, 25, 28, 35, 534, 5, 6, 320, 8, 516, 5, 42, 25, 181, 8, 130, 56, 547, 3571, 5, 1471, 851, 14, 2286]\n",
      "\n",
      "===================\n",
      "After translation :\n",
      "===================\n",
      "<START> i love cheesy horror flicks i don't care if the acting is sub par or whether the monsters look corny i liked this movie except for the <UNK> feeling all the way from the beginning of the film to the very end look i don't need a 10 page <UNK> or a sign with big letters explaining a plot to me but dark <UNK> takes the what is this movie about thing to a whole new annoying level what is this movie about br br this isn't exceptionally scary or thrilling but if you have an hour and a half to kill and or you want to end up feeling frustrated and confused rent this winner\n"
     ]
    }
   ],
   "source": [
    "print_subtitle('Review example :')\n",
    "print(x_train[12])\n",
    "\n",
    "print_subtitle('After translation :')\n",
    "print(dataset2text(x_train[12]))"
   ]
  },
  {
   "cell_type": "markdown",
   "metadata": {},
   "source": [
    "### 4.4 - Few statistics"
   ]
  },
  {
   "cell_type": "code",
   "execution_count": 17,
   "metadata": {},
   "outputs": [
    {
     "data": {
      "image/png": "[encoded data removed]",
      "text/plain": [
       "<Figure size 1200x400 with 1 Axes>"
      ]
     },
     "metadata": {},
     "output_type": "display_data"
    }
   ],
   "source": [
    "# Calcul des tailles des avis\n",
    "sizes = [len(i) for i in x_train]\n",
    "\n",
    "# Création de l'histogramme\n",
    "plt.figure(figsize=(12,4))\n",
    "plt.hist(sizes, bins=400)\n",
    "plt.gca().set(title='Distribution of reviews by size - [{:5.2f}, {:5.2f}]'.format(min(sizes),max(sizes)), \n",
    "              xlabel='Size', ylabel='Density', xlim=[0,1500])\n",
    "\n",
    "# Sauvegarde de la figure\n",
    "plt.savefig('img/01-stats-sizes.png', dpi=300)  # Spécifiez le chemin et le format souhaité\n",
    "\n",
    "# Affichage de l'histogramme\n",
    "plt.show()\n"
   ]
  },
  {
   "cell_type": "code",
   "execution_count": 18,
   "metadata": {},
   "outputs": [
    {
     "data": {
      "image/png": "[encoded data removed]",
      "text/plain": [
       "<Figure size 1200x400 with 1 Axes>"
      ]
     },
     "metadata": {},
     "output_type": "display_data"
    }
   ],
   "source": [
    "unk=[ 100*(s.count(oov_char)/len(s)) for s in x_train]\n",
    "plt.figure(figsize=(12,4))\n",
    "plt.hist(unk, bins=100)\n",
    "plt.gca().set(title='Percent of unknown words - [{:5.2f}, {:5.2f}]'.format(min(unk),max(unk)), \n",
    "              xlabel='# unknown', ylabel='Density', xlim=[0,30])\n",
    "plt.savefig('img/02-stats-unknown.png', dpi=300) \n",
    "plt.show()"
   ]
  },
  {
   "cell_type": "markdown",
   "metadata": {},
   "source": [
    "## Step 5 - Basic approach with \"one-hot\" vector encoding\n",
    "Basic approach.  \n",
    "\n",
    "Each sentence is encoded with a **vector** of length equal to the **size of the dictionary**.   \n",
    "\n",
    "Each sentence will therefore be encoded with a simple vector.  \n",
    "The value of each component is 0 if the word is not present in the sentence or 1 if the word is present.\n",
    "\n",
    "For a sentence s=[3,4,7] and a dictionary of 10 words...    \n",
    "We wil have a vector v=[0,0,0,1,1,0,0,1,0,0,0]\n",
    "\n"
   ]
  },
  {
   "cell_type": "markdown",
   "metadata": {},
   "source": [
    "### 5.1 - Our one-hot encoder function"
   ]
  },
  {
   "cell_type": "code",
   "execution_count": 19,
   "metadata": {},
   "outputs": [],
   "source": [
    "def one_hot_encoder(x, vector_size=10000):\n",
    "\n",
    "    # ---- Set all to 0\n",
    "    #\n",
    "    x_encoded = np.zeros((len(x), vector_size))\n",
    "    \n",
    "    # ---- For each sentence\n",
    "    #\n",
    "    for i,sentence in enumerate(x):\n",
    "        for word in sentence:\n",
    "            x_encoded[i, word] = 1.\n",
    "\n",
    "    return x_encoded"
   ]
  },
  {
   "cell_type": "markdown",
   "metadata": {},
   "source": [
    "### 5.2 - Encoding.."
   ]
  },
  {
   "cell_type": "code",
   "execution_count": 20,
   "metadata": {},
   "outputs": [
    {
     "name": "stdout",
     "output_type": "stream",
     "text": [
      "To have a look, x_train[12] became : [0. 1. 1. ... 0. 0. 0.]\n"
     ]
    }
   ],
   "source": [
    "x_train = one_hot_encoder(x_train, vector_size=vocab_size)\n",
    "x_test  = one_hot_encoder(x_test,  vector_size=vocab_size)\n",
    "\n",
    "print(\"To have a look, x_train[12] became :\", x_train[12] )"
   ]
  },
  {
   "cell_type": "markdown",
   "metadata": {},
   "source": [
    "## Step 6 - Build a nice model"
   ]
  },
  {
   "cell_type": "code",
   "execution_count": 21,
   "metadata": {},
   "outputs": [
    {
     "name": "stdout",
     "output_type": "stream",
     "text": [
      "Model: \"My IMDB classifier\"\n",
      "_________________________________________________________________\n",
      " Layer (type)                Output Shape              Param #   \n",
      "=================================================================\n",
      " dense (Dense)               (None, 32)                160032    \n",
      "                                                                 \n",
      " dense_1 (Dense)             (None, 32)                1056      \n",
      "                                                                 \n",
      " dense_2 (Dense)             (None, 1)                 33        \n",
      "                                                                 \n",
      "=================================================================\n",
      "Total params: 161121 (629.38 KB)\n",
      "Trainable params: 161121 (629.38 KB)\n",
      "Non-trainable params: 0 (0.00 Byte)\n",
      "_________________________________________________________________\n"
     ]
    }
   ],
   "source": [
    "model = keras.Sequential(name='My IMDB classifier')\n",
    "\n",
    "model.add(keras.layers.Input( shape=(vocab_size,) ))\n",
    "model.add(keras.layers.Dense( 32, activation='relu'))\n",
    "model.add(keras.layers.Dense( 32, activation='relu'))\n",
    "model.add(keras.layers.Dense( 1,  activation='sigmoid'))\n",
    "    \n",
    "model.compile(optimizer = 'rmsprop',\n",
    "                  loss      = 'binary_crossentropy',\n",
    "                  metrics   = ['accuracy'])\n",
    "\n",
    "model.summary()"
   ]
  }
 ],
 "metadata": {
  "kernelspec": {
   "display_name": "base",
   "language": "python",
   "name": "python3"
  },
  "language_info": {
   "codemirror_mode": {
    "name": "ipython",
    "version": 3
   },
   "file_extension": ".py",
   "mimetype": "text/x-python",
   "name": "python",
   "nbconvert_exporter": "python",
   "pygments_lexer": "ipython3",
   "version": "3.11.4"
  }
 },
 "nbformat": 4,
 "nbformat_minor": 2
}
